{
 "cells": [
  {
   "cell_type": "code",
   "execution_count": 2,
   "metadata": {},
   "outputs": [],
   "source": [
    "%matplotlib qt\n",
    "import numpy as np\n",
    "from scipy.spatial.transform import Rotation as spicyrot\n",
    "from orix.quaternion import Orientation\n",
    "import numpy as np\n",
    "from orix.vector import Miller, Vector3d\n",
    "from orix import plot\n",
    "from orix.crystal_map import Phase\n",
    "import matplotlib.pyplot as plt\n",
    "from matplotlib import gridspec\n",
    "from orix.io import load\n",
    "import os\n",
    "from orix.crystal_map import  Phase\n",
    "\n",
    "from diffpy.structure import Lattice, Structure\n",
    "from orix.vector import Miller"
   ]
  },
  {
   "cell_type": "code",
   "execution_count": 3,
   "metadata": {},
   "outputs": [],
   "source": [
    "class ScipyRotation:\n",
    "    def __init__(self,vectorpair1,vectorpair2) -> None:\n",
    "        self.vectorpair1 = vectorpair1\n",
    "        self.vectorpair2 = vectorpair2\n",
    "    \n",
    "\n",
    "    def get_full_rotation_matrix(self):\n",
    "        return spicyrot.align_vectors(self.vectorpair1, self.vectorpair2)"
   ]
  },
  {
   "cell_type": "code",
   "execution_count": 4,
   "metadata": {},
   "outputs": [],
   "source": [
    "def get_arr(file):\n",
    "    return np.genfromtxt(file, delimiter=\",\")"
   ]
  },
  {
   "cell_type": "code",
   "execution_count": 5,
   "metadata": {},
   "outputs": [],
   "source": [
    "#the following path contains files which include information from SAD patterns\n",
    "#such as indexing and gonjo tilt\n",
    "\n",
    "measurments_path = \"/Users/anders/Library/CloudStorage/OneDrive-NTNU/Prosjektoppgave/\"\\\n",
    "                \"Data/For_align_vectors/measurements\""
   ]
  },
  {
   "cell_type": "code",
   "execution_count": 6,
   "metadata": {},
   "outputs": [],
   "source": [
    "class GonjoPosition:\n",
    "    \"\"\"Class represents a gonjo defined by the x and y tilt\"\"\"\n",
    "    def __init__(self, x_tilt, y_tilt, degrees=True) -> None:\n",
    "        if degrees:\n",
    "            self.x_tilt = np.radians(x_tilt)\n",
    "            self.y_tilt = np.radians(y_tilt)\n"
   ]
  },
  {
   "cell_type": "code",
   "execution_count": 7,
   "metadata": {},
   "outputs": [],
   "source": [
    "class RotationGenerator:\n",
    "    \"\"\"Class for generating rotation matrices converting from one gonjo to another\"\"\"\n",
    "    def __init__(\n",
    "        self,\n",
    "        new_gonjo_pos: GonjoPosition,\n",
    "        old_gonjo_pos: GonjoPosition = GonjoPosition(0, 0),\n",
    "    ) -> None:\n",
    "        self.new_gonjo_pos = new_gonjo_pos\n",
    "        self.old_gonjo_pos = old_gonjo_pos\n",
    "\n",
    "        self.alpha_0 = self.old_gonjo_pos.x_tilt\n",
    "        self.beta_0 = self.old_gonjo_pos.y_tilt\n",
    "\n",
    "        self.alpha = self.new_gonjo_pos.x_tilt - self.old_gonjo_pos.x_tilt\n",
    "        self.beta = self.new_gonjo_pos.y_tilt - self.old_gonjo_pos.y_tilt\n",
    "\n",
    "    def get_T1(self) -> np.ndarray:\n",
    "        a11 = 1\n",
    "        a12 = 0\n",
    "        a13 = 0\n",
    "        a21 = 0\n",
    "        a22 = np.cos(self.alpha)\n",
    "        a23 = -np.sin(self.alpha)\n",
    "        a31 = 0\n",
    "        a32 = np.sin(self.alpha)\n",
    "        a33 = np.cos(self.alpha)\n",
    "\n",
    "        return np.array([[a11, a12, a13], \n",
    "                         [a21, a22, a23],\n",
    "                         [a31, a32, a33]])\n",
    "\n",
    "    def get_T2(self) -> np.ndarray:\n",
    "        a11 = np.cos(self.beta)\n",
    "        a12 = -np.sin(self.beta) * np.sin(self.alpha_0)\n",
    "        a13 = np.sin(self.beta) * np.cos(self.alpha_0)\n",
    "        a21 = np.sin(self.beta) * np.sin(self.alpha_0)\n",
    "        a22 = np.cos(self.alpha_0) ** 2 + np.sin(self.alpha_0) ** 2 * np.cos(self.beta)\n",
    "        a23 = np.sin(self.alpha_0) * np.cos(self.alpha_0) * (1 - np.cos(self.beta))\n",
    "        a31 = -np.sin(self.beta) * np.cos(self.alpha_0)\n",
    "        a32 = np.sin(self.alpha_0) * np.cos(self.alpha_0) * (1 - np.cos(self.beta))\n",
    "        a33 = np.sin(self.alpha_0) ** 2 + np.cos(self.alpha_0) ** 2 * np.cos(self.beta)\n",
    "\n",
    "        return np.array([[a11, a12, a13], \n",
    "                         [a21, a22, a23], \n",
    "                         [a31, a32, a33]])\n",
    "\n",
    "    def get_full_rotation_matrix(self) -> np.ndarray:\n",
    "        return self.get_T1() @ self.get_T2()"
   ]
  },
  {
   "cell_type": "code",
   "execution_count": 8,
   "metadata": {},
   "outputs": [],
   "source": [
    "def inplane_rotation_by(vec, theta = 90-34.56):\n",
    "    rot_vec = np.array([[0,0,1]],dtype = float)\n",
    "    rot_vec = rot_vec * np.radians(theta)\n",
    "    rotation_matrix = spicyrot.from_rotvec(rot_vec)\n",
    "\n",
    "    return (rotation_matrix.as_matrix() @ vec.T)[0]"
   ]
  },
  {
   "cell_type": "code",
   "execution_count": 9,
   "metadata": {},
   "outputs": [],
   "source": [
    "def find_normal_to_hex_plane(hex_plane: np.array,  a, c) -> np.array:\n",
    "    h, k, l = hex_plane[:]\n",
    "    n1 = 2*h+k\n",
    "    n2 =  2*k+h\n",
    "    n3 = 3/2 *a**2/c**2 *l\n",
    "    return np.array([n1, n2, n3])\n"
   ]
  },
  {
   "cell_type": "code",
   "execution_count": 10,
   "metadata": {},
   "outputs": [],
   "source": [
    "def convert_hkl(h,k,l, a = 6.115, c = 11.41):\n",
    "\n",
    "    #convert to plane normal vector\n",
    "    u,t,w = find_normal_to_hex_plane(np.array([h,k,l]), a,c)\n",
    "\n",
    "    lattice = Lattice(a, a, c, 90,90,120)\n",
    "    phase = Phase(point_group=\"6mm\", structure=Structure(lattice=lattice))\n",
    "\n",
    "    #convert plane normal to cartesian coords.\n",
    "    abcr = Miller(uvw=[[u,t,w]], phase=phase)\n",
    "    x,y,z = abcr._data[0]\n",
    "\n",
    "    return  y,x,z\n"
   ]
  },
  {
   "cell_type": "code",
   "execution_count": 11,
   "metadata": {},
   "outputs": [],
   "source": [
    "class DiffractionObject:\n",
    "    def __init__(self, area_number, symmetry) -> None:\n",
    "        self.area = f\"Area{area_number}\"\n",
    "        self.symmetry = symmetry\n",
    "        self.dataarr = get_arr(os.path.join(measurments_path,self.area + \".csv\"))\n",
    "        self.millers = []\n",
    "        self.vectors = []\n",
    "\n",
    "        temp_vectors = []\n",
    "        for line in self.dataarr[1:,:]:\n",
    "            angle = line[4]\n",
    "            lenght = line[5]\n",
    "            x,y,z = convert_hkl(*line[6:9])\n",
    "            \n",
    "            x_tilt,y_tilt = line[9:]\n",
    "\n",
    "            x_comp = lenght * np.cos(np.radians(angle))\n",
    "            y_comp = lenght * np.sin(np.radians(angle))\n",
    "            \n",
    "            self.millers.append([x,y,z])\n",
    "            temp_vectors.append([x_comp,y_comp,0])\n",
    "      \n",
    "        self.millers = np.array(self.millers)\n",
    "        temp_vectors = np.array(temp_vectors)\n",
    "        for vector,miller in zip(temp_vectors, self.millers):\n",
    "            vector /= np.linalg.norm(vector)\n",
    "            vector *= np.linalg.norm(miller)\n",
    "            self.vectors.append(vector)\n",
    "        self.vectors = np.array(self.vectors)\n",
    "    \n",
    "        self.gonjo = GonjoPosition(x_tilt,y_tilt)"
   ]
  },
  {
   "cell_type": "code",
   "execution_count": 12,
   "metadata": {},
   "outputs": [],
   "source": [
    "def get_ori_in_reference_tilt(self,\n",
    "                            reference : GonjoPosition, \n",
    "                            inplane = 0) -> Orientation:\n",
    "    gonjo_rot_generator = RotationGenerator(reference, self.gonjo)\n",
    "    new_vectors = np.zeros(self.vectors.shape)\n",
    "    for i,vector in enumerate(self.vectors):\n",
    "\n",
    "        vector = inplane_rotation_by(vector,90-34.56)\n",
    "        vector = gonjo_rot_generator.get_full_rotation_matrix() @ vector\n",
    "        vector = inplane_rotation_by(vector, 34.56-90)\n",
    "        vector = inplane_rotation_by(vector,inplane)\n",
    "        \n",
    "        new_vectors[i,:] = vector\n",
    "    \n",
    "    self.vectors = new_vectors\n",
    "    rotgen = ScipyRotation(self.millers,self.vectors)\n",
    "\n",
    "    rotation, error = rotgen.get_full_rotation_matrix()\n",
    "    print(f\"The alignment error for {self.area} is {error :.2f}\")\n",
    "    \n",
    "    return Orientation.from_matrix(rotation.as_matrix(), self.symmetry)\n",
    "\n",
    "DiffractionObject.get_ori_in_reference_tilt = get_ori_in_reference_tilt"
   ]
  },
  {
   "cell_type": "code",
   "execution_count": 1,
   "metadata": {},
   "outputs": [],
   "source": [
    "def get_SPED_ori_from_area(area, plot_map = False):\n",
    "    xmap= load(\"//Users/anders/Library/CloudStorage/OneDrive-NTNU/Prosjektoppgave/\"\\\n",
    "    \"Data/Processed/One_deg/error_fixed/ErMnO3_1_deg_scan_errors_fixed_rotated.hdf5\")\n",
    "    area_to_coords_dict = {\n",
    "        \"Area1\" : [45,504],\n",
    "        \"Area2\" : [45,440],\n",
    "        \"Area3\" : [201,477],\n",
    "        \"Area4\" : [140,595],\n",
    "        \"Area5\" : [127,540],\n",
    "        \"Area6\" : [170,554],\n",
    "        \"Area7\" : [185,390],\n",
    "        \"Area8\" : [250,370],\n",
    "        \"Area9\" : [220,510],\n",
    "        \"Area10\" : [55,287],\n",
    "        \"Area11\" : [57,135],\n",
    "        \"Area12\" : [160,175],\n",
    "        \"Area13\" : [256,52],\n",
    "        \"Area14\" : [280,204],\n",
    "        \"Area15\" : [51,619],\n",
    "        \"Area16\" : [206,220],\n",
    "        \"Area17\" : [330,50],\n",
    "    }\n",
    "    if plot_map:\n",
    "        symmetry = Phase(\"6mm\", 185).point_group.laue\n",
    "        ipfkey = plot.IPFColorKeyTSL(symmetry)\n",
    "        ipfkey.direction  = Vector3d.zvector()\n",
    "        color =  ipfkey.orientation2color(xmap[\"ErMnO3\"].orientations)\n",
    "        xmap[\"ErMnO3\"].plot(color)\n",
    "        for key,value in area_to_coords_dict.items():\n",
    "            \n",
    "            plt.scatter(*value[::-1],label = key)\n",
    "        plt.legend()\n",
    "    x,y =area_to_coords_dict[f\"Area{area}\"]\n",
    "    \n",
    "    return xmap[x,y].orientations\n"
   ]
  },
  {
   "cell_type": "code",
   "execution_count": 16,
   "metadata": {},
   "outputs": [
    {
     "name": "stdout",
     "output_type": "stream",
     "text": [
      "The alignment error for Area1 is 0.06\n",
      "The alignment error for Area2 is 0.08\n",
      "The alignment error for Area3 is 0.06\n",
      "The alignment error for Area4 is 0.03\n",
      "The alignment error for Area5 is 0.06\n",
      "The alignment error for Area6 is 0.11\n",
      "The alignment error for Area7 is 0.03\n",
      "The alignment error for Area8 is 0.04\n",
      "The alignment error for Area9 is 0.09\n",
      "The alignment error for Area10 is 0.12\n",
      "The alignment error for Area11 is 0.02\n",
      "The alignment error for Area12 is 0.11\n",
      "The alignment error for Area13 is 0.13\n",
      "The alignment error for Area14 is 0.03\n",
      "The alignment error for Area15 is 0.01\n",
      "The alignment error for Area16 is 0.08\n",
      "The alignment error for Area17 is 0.08\n"
     ]
    }
   ],
   "source": [
    "\n",
    "def main(num, start = 0, inplane = 0):\n",
    "    symmetry = Phase(\"6mm\", 185).point_group.laue\n",
    "    reference_gonjo = GonjoPosition(2.8,0.4)\n",
    " \n",
    "    angles = []\n",
    "\n",
    "    for i in range(num):\n",
    "        rotation = inplane\n",
    "        area = i+1 + start\n",
    "\n",
    "        if area in [3,6,12,13,14,15,17]: #rotate some because of 180° disambiguity\n",
    "            rotation += 180\n",
    "        \n",
    "        diff_obj = DiffractionObject(area, symmetry)\n",
    "\n",
    "        ori_manual = diff_obj.get_ori_in_reference_tilt(reference_gonjo, rotation)\n",
    "        ori_sped = get_SPED_ori_from_area(area)\n",
    "        \n",
    "        ori_sped.symmetry = symmetry\n",
    "        angle=(np.rad2deg(ori_sped.angle_with(ori_manual)))\n",
    "                \n",
    "        angles.append(angle)   \n",
    "    \n",
    "\n",
    "    return np.asarray(angles)\n",
    "\n",
    "angles = main(17,0,142)"
   ]
  },
  {
   "cell_type": "code",
   "execution_count": 14,
   "metadata": {},
   "outputs": [
    {
     "name": "stdout",
     "output_type": "stream",
     "text": [
      "Area1 misangle:  0.92°\n",
      "Area2 misangle:  1.99°\n",
      "Area3 misangle:  3.04°\n",
      "Area4 misangle:  11.60°\n",
      "Area5 misangle:  8.80°\n",
      "Area6 misangle:  2.07°\n",
      "Area7 misangle:  1.73°\n",
      "Area8 misangle:  10.25°\n",
      "Area9 misangle:  12.98°\n",
      "Area10 misangle:  6.15°\n",
      "Area11 misangle:  9.52°\n",
      "Area12 misangle:  8.31°\n",
      "Area13 misangle:  3.05°\n",
      "Area14 misangle:  5.24°\n",
      "Area15 misangle:  8.01°\n",
      "Area16 misangle:  4.01°\n",
      "Area17 misangle:  23.07°\n"
     ]
    }
   ],
   "source": [
    "for i, angle in enumerate(angles):\n",
    "    print(f\"Area{i+1} misangle: \", f\"{angle[0] :.2f}°\")"
   ]
  },
  {
   "cell_type": "code",
   "execution_count": 19,
   "metadata": {},
   "outputs": [
    {
     "name": "stdout",
     "output_type": "stream",
     "text": [
      "Averge misangle between SAD and TM: 6.40°\n"
     ]
    }
   ],
   "source": [
    "#calculate average exluding area 7 (which is ignored) and area 17 (which TM has failed)\n",
    "tot_angles = 0\n",
    "tot = 0\n",
    "for i in range(16):\n",
    "    if i == 6:\n",
    "        continue\n",
    "    tot_angles += angles[i][0]\n",
    "    tot+=1\n",
    "print(f\"Averge misangle between SAD and TM: {tot_angles/tot :.2f}°\")"
   ]
  }
 ],
 "metadata": {
  "kernelspec": {
   "display_name": "Python 3.9.13 ('orix10')",
   "language": "python",
   "name": "python3"
  },
  "language_info": {
   "codemirror_mode": {
    "name": "ipython",
    "version": 3
   },
   "file_extension": ".py",
   "mimetype": "text/x-python",
   "name": "python",
   "nbconvert_exporter": "python",
   "pygments_lexer": "ipython3",
   "version": "3.9.13 (main, Aug 25 2022, 18:29:29) \n[Clang 12.0.0 ]"
  },
  "orig_nbformat": 4,
  "vscode": {
   "interpreter": {
    "hash": "d3eac98ec3fce49ff04f7279f557f71f15b1dbc8326d83fdaed9b25ad6880263"
   }
  }
 },
 "nbformat": 4,
 "nbformat_minor": 2
}
