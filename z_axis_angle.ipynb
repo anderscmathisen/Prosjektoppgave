{
 "cells": [
  {
   "cell_type": "code",
   "execution_count": null,
   "metadata": {},
   "outputs": [],
   "source": [
    "%matplotlib qt\n",
    "import numpy as np\n",
    "import matplotlib.pyplot as plt\n",
    "import hyperspy.api as hs\n",
    "import os\n",
    "from orix.io import load\n",
    "from orix.vector import Vector3d\n",
    "plt.rcParams['svg.fonttype'] = 'none'\n",
    "plt.rcParams[\"axes.unicode_minus\"] = False"
   ]
  },
  {
   "cell_type": "code",
   "execution_count": null,
   "metadata": {},
   "outputs": [],
   "source": [
    "\n",
    "folder = \"/Users/anders/Library/CloudStorage/OneDrive-NTNU/Prosjektoppgave/Data/SPED\"\n",
    "file = \"SPED_640x383x12_20x20_9p26x9p26nm_ScanRot20deg_CL12cm_spot0p5nm_alpha5_NBD_\"\\\n",
    "        \"10ms_1deg_fixed_scan.zspy\"\n",
    "\n",
    "\n",
    "dp = hs.load(os.path.join(folder, file), lazy = True)\n",
    "\n",
    "xmap_file = \"/Users/anders/Library/CloudStorage/OneDrive-NTNU/Prosjektoppgave/Data/\"\\\n",
    "        \"Processed/One_deg/error_fixed/ErMnO3_1_deg_scan_errors_fixed_rotated.hdf5\""
   ]
  },
  {
   "cell_type": "code",
   "execution_count": null,
   "metadata": {},
   "outputs": [],
   "source": [
    "def load_and_preprocess(file, stepsize = 6.92):\n",
    "    xmap = load(file)\n",
    "    y, x = np.indices(xmap.shape, dtype=\"float\")\n",
    "    x *= stepsize\n",
    "    y *= stepsize\n",
    "    xmap._x = x.ravel()\n",
    "    xmap._y = y.ravel()\n",
    "    xmap.scan_unit = \"nm\"\n",
    "\n",
    "    return xmap\n",
    "\n",
    "xmap = load_and_preprocess(xmap_file)"
   ]
  },
  {
   "cell_type": "code",
   "execution_count": null,
   "metadata": {},
   "outputs": [],
   "source": [
    "#express c axis in sample coordinate\n",
    "\n",
    "mask = (xmap.correlation[:,0] > 0.001).reshape(383,640,1)\n",
    "\n",
    "vecs = ~xmap.orientations*Vector3d.zvector()\n",
    "vecs = vecs.data.reshape(xmap.shape + (3,)) *  mask"
   ]
  },
  {
   "cell_type": "code",
   "execution_count": null,
   "metadata": {},
   "outputs": [],
   "source": [
    "#calculate angle between c-axis and plane\n",
    "\n",
    "angles = np.arctan(vecs[:,:,2]/(np.sqrt(vecs[:,:,0]**2 + vecs[:,:,1]**2)))\n",
    "\n",
    "#set angle for regions outside grains to pi/2\n",
    "\n",
    "angles[mask.squeeze() == False] = np.pi/2\n"
   ]
  },
  {
   "cell_type": "code",
   "execution_count": null,
   "metadata": {},
   "outputs": [],
   "source": [
    "#plot with hyperspy\n",
    "\n",
    "img = hs.signals.Signal2D(np.rad2deg(angles))\n",
    "\n",
    "img.axes_manager[0].offset = dp.axes_manager[0].offset\n",
    "img.axes_manager[1].offset = dp.axes_manager[1].offset\n",
    "img.axes_manager[0].scale = 6.92\n",
    "img.axes_manager[1].scale = 6.92\n",
    "img.axes_manager[0].units = dp.axes_manager[0].units\n",
    "img.axes_manager[1].units = dp.axes_manager[1].units\n",
    "img.axes_manager[0].name = dp.axes_manager[0].name\n",
    "img.axes_manager[1].name = dp.axes_manager[1].name\n",
    "\n",
    "img.plot(title = \"\", cmap =\"viridis_r\", axes_off = True)\n",
    "#plt.savefig(\"c_axis_angle.svg\")"
   ]
  }
 ],
 "metadata": {
  "kernelspec": {
   "display_name": "Python 3.9.13 ('pyxem142')",
   "language": "python",
   "name": "python3"
  },
  "language_info": {
   "codemirror_mode": {
    "name": "ipython",
    "version": 3
   },
   "file_extension": ".py",
   "mimetype": "text/x-python",
   "name": "python",
   "nbconvert_exporter": "python",
   "pygments_lexer": "ipython3",
   "version": "3.9.13 | packaged by conda-forge | (main, May 27 2022, 17:00:52) \n[Clang 13.0.1 ]"
  },
  "orig_nbformat": 4,
  "vscode": {
   "interpreter": {
    "hash": "b3edeedf99e80750ecf8f2feffd51d41d867e7401f9c9cd4d401fc6e7dd97070"
   }
  }
 },
 "nbformat": 4,
 "nbformat_minor": 2
}
