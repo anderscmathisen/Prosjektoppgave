{
 "cells": [
  {
   "cell_type": "code",
   "execution_count": null,
   "metadata": {},
   "outputs": [],
   "source": [
    "%matplotlib qt\n",
    "import numpy as np\n",
    "import matplotlib.pyplot as plt\n",
    "import scipy.ndimage as nd\n",
    "import hyperspy.api as hs\n",
    "import os\n",
    "from orix.io import load\n",
    "from orix.vector import Vector3d\n",
    "from orix import plot\n",
    "from tqdm import tqdm"
   ]
  },
  {
   "cell_type": "code",
   "execution_count": null,
   "metadata": {},
   "outputs": [],
   "source": [
    "xmap = load(\"/Users/anders/Library/CloudStorage/OneDrive-NTNU/Prosjektoppgave/Data/\"\\\n",
    "        \"Processed/One_deg/error_fixed/ErMnO3_1_deg_scan_errors_fixed_rotated.hdf5\")\n",
    "\n",
    "folder = \"/Users/anders/Library/CloudStorage/OneDrive-NTNU/Prosjektoppgave/Data/SPED\"\n",
    "file = \"SPED_640x383x12_20x20_9p26x9p26nm_ScanRot20deg_CL12cm_spot0p5nm_alpha5\"\\\n",
    "        \"_NBD_10ms_1deg_fixed_scan.zspy\"\n",
    "\n",
    "dp = hs.load(os.path.join(folder, file), lazy = True)"
   ]
  },
  {
   "cell_type": "code",
   "execution_count": null,
   "metadata": {},
   "outputs": [],
   "source": [
    "exclude_mask = xmap.correlation[:,0] < 0.001\n",
    "exclude_mask = exclude_mask.reshape(dp.data.shape[:2])\n",
    "\n",
    "include_mask = xmap.correlation[:,0] > 0.001\n",
    "include_mask = include_mask.reshape(dp.data.shape[:2])"
   ]
  },
  {
   "cell_type": "code",
   "execution_count": null,
   "metadata": {},
   "outputs": [],
   "source": [
    "#get a color ipf plot of Z projection\n",
    "\n",
    "ckey = plot.IPFColorKeyTSL(xmap.phases[\"ErMnO3\"].point_group, \n",
    "                                direction=Vector3d.zvector())\n",
    "\n",
    "img_rgb = ckey.orientation2color(xmap.orientations)\n",
    "img_rgb = img_rgb.reshape(dp.data.shape[:2] + (3,))"
   ]
  },
  {
   "cell_type": "code",
   "execution_count": null,
   "metadata": {},
   "outputs": [],
   "source": [
    "#Get mask for each grain, using color\n",
    "#Use binary dilation and erosion to fill holes in mask and remove boundaries\n",
    "\n",
    "def get_mask(color, \n",
    "            threshold, \n",
    "            extra_erosion = False, \n",
    "            extra_dilation = False, \n",
    "            y_thresholding = None):\n",
    "    \n",
    "    mask = nd.binary_erosion(\n",
    "            nd.binary_dilation(\n",
    "               np.abs(img_rgb-np.asarray(color)).sum(axis=2)<threshold, iterations = 4), \n",
    "            iterations = 3,\n",
    "            border_value =1 )\n",
    "            \n",
    "    mask = nd.binary_erosion(mask, iterations = 2)\n",
    "    if extra_erosion:\n",
    "        mask = nd.binary_erosion(mask, iterations = 3)\n",
    "\n",
    "    if extra_dilation:\n",
    "        mask = nd.binary_dilation(mask, iterations = 4)\n",
    "        mask = nd.binary_fill_holes(mask)\n",
    "\n",
    "    if y_thresholding is not None:\n",
    "        mask[:y_thresholding,:] = 0\n",
    "    \n",
    "    return mask"
   ]
  },
  {
   "cell_type": "code",
   "execution_count": null,
   "metadata": {},
   "outputs": [],
   "source": [
    "#define colors used for segmentation\n",
    "\n",
    "grains = {\"area1\": [np.array([1,0.592,0.418]), 0.18],\n",
    "\"area2\": [np.array([0.16,0.67,1]), 0.05],\n",
    "\"area3\": [np.array([0.293,1,0.307]), 0.12],\n",
    "\"area4\": [np.array([0.00668,0.0613,1]), 0.09],\n",
    "\"area5\": [np.array([0.842,0.949,1]), 0.05],\n",
    "\"area6\": [np.array([1,0.0487,0.0393]), 0.09, True],\n",
    "\"area7\": [np.array([1,0.865,0.843]), 0.05, False, True],\n",
    "\"area8\": [np.array([0.163,0.199,1]), 0.12, False , False, 50],\n",
    "\"area9\": [np.array([0.338,1,0.884]), 0.13],\n",
    "\"area10\": [np.array([0.506,1,0.374]), 0.13],\n",
    "\n",
    "\"area11\": [np.array([1,0.25,0.374]), 0.13, True, False, 50],\n",
    "\n",
    "\"area12\": [np.array([1,0.0226,0.353]), 0.13, True, True],\n",
    "\n",
    "\"area13\": [np.array([1,0.432,0.0899]), 0.13, False, True],\n",
    "\n",
    "\"area14\": [np.array([0.965,0.976,1]), 0.13, False, False, 100],\n",
    "\n",
    "}\n"
   ]
  },
  {
   "cell_type": "code",
   "execution_count": null,
   "metadata": {},
   "outputs": [],
   "source": [
    "#inspect that segmentaiton was successful\n",
    "\n",
    "mask = np.zeros(img_rgb.shape[:2])\n",
    "for i in range(14):\n",
    "    area = f\"area{i+1}\"\n",
    "\n",
    "    mask += get_mask(*grains[area]) * (i+1)\n",
    "\n",
    "mask[mask>15] = 0\n",
    "plt.figure()\n",
    "plt.imshow(mask*include_mask,vmax = 15)"
   ]
  },
  {
   "cell_type": "code",
   "execution_count": null,
   "metadata": {},
   "outputs": [],
   "source": [
    "#save segmented dataset for later use\n",
    "\n",
    "for i in range(14):\n",
    "    area = f\"area{i+1}\"\n",
    "\n",
    "    area_mask = mask == i+1\n",
    "    diff_img = (dp.data*area_mask).sum(axis = (2,3))\n",
    "    np.save(f\"diff_area{i+1}.npy\", diff_img)"
   ]
  },
  {
   "cell_type": "code",
   "execution_count": null,
   "metadata": {},
   "outputs": [],
   "source": [
    "#Define apertures for DF image of each segment\n",
    "\n",
    "rois ={\"area1\" : hs.roi.CircleROI(cx=0.00339841, cy=-0.00563164, r=0.000825327, r_inner=0),\n",
    "\"area2\": hs.roi.CircleROI(cx=-0.00883586, cy=-0.00388389, r=0.000825327, r_inner=0),\n",
    "\"area3\" : hs.roi.CircleROI(cx=0.000194195, cy=0, r=0.000825327, r_inner=0),\n",
    "\"area4\" : hs.roi.CircleROI(cx=-0.00116517, cy=-0.00388389, r=0.000825327, r_inner=0),\n",
    "\"area5\" : hs.roi.CircleROI(cx=0.000194195, cy=-0.000194195, r=0.000825327, r_inner=0),\n",
    "\"area6\" : hs.roi.CircleROI(cx=0.000291292, cy=-9.70973E-05, r=0.000825327, r_inner=0),\n",
    "\"area7\" : hs.roi.CircleROI(cx=0.000194195, cy=-0.000388389, r=0.000825327, r_inner=0) ,\n",
    "\"area8\" : hs.roi.CircleROI(cx=0.000194195, cy=-0.000291292, r=0.000825327, r_inner=0),\n",
    "\"area9\" : hs.roi.CircleROI(cx=0.00951554, cy=-0.00903005, r=0.000825327, r_inner=0),\n",
    "\"area10\" : hs.roi.CircleROI(cx=9.70973E-05, cy=-0.000291292, r=0.000825327, r_inner=0),\n",
    "\"area11\" : hs.roi.CircleROI(cx=-0.00271872, cy=0.00301002, r=0.000825327, r_inner=0),\n",
    "\"area12\": hs.roi.CircleROI(cx=0.000194195, cy=0, r=0.000825327, r_inner=0),\n",
    "\"area13\": hs.roi.CircleROI(cx=0.000194195, cy=0, r=0.000825327, r_inner=0),\n",
    "\"area14\" : hs.roi.CircleROI(cx=0.000679681, cy=0.00388389, r=0.000825327, r_inner=0)}\n",
    "\n",
    "\n",
    "#define which areas are VBF images\n",
    "VBF_image = [3,5,6,7,8,10,12,13]\n",
    "\n",
    "#deine special brightness adjustments\n",
    "\n",
    "brightness_adjustmets = {4: 2, 2:1/3, 11: 2.3/5, 14:2/3 }"
   ]
  },
  {
   "cell_type": "code",
   "execution_count": null,
   "metadata": {},
   "outputs": [],
   "source": [
    "#create the combined DF image\n",
    "\n",
    "img = np.zeros((383,640))\n",
    "\n",
    "for i in tqdm(range(14)):\n",
    "    area = f\"area{i+1}\"\n",
    "\n",
    "    if i+1 in VBF_image: \n",
    "        scale = 1\n",
    "    else:\n",
    "        scale = 0.7\n",
    "    \n",
    "    roi = rois[area]\n",
    "    temp_img = roi(dp.T).nansum().data.compute()\n",
    "\n",
    "    temp_img /= (np.mean(temp_img)*scale)\n",
    "\n",
    "    if i+1 in brightness_adjustmets.keys():\n",
    "        temp_img *= brightness_adjustmets[i+1]\n",
    "\n",
    "    mask = get_mask(*grains[area])\n",
    "    img[mask] += temp_img[mask]"
   ]
  },
  {
   "cell_type": "code",
   "execution_count": null,
   "metadata": {},
   "outputs": [],
   "source": [
    "#plot the result\n",
    "\n",
    "domain_img = hs.signals.Signal2D(img * include_mask)\n",
    "\n",
    "domain_img.axes_manager[0].offset = dp.axes_manager[0].offset\n",
    "domain_img.axes_manager[1].offset = dp.axes_manager[1].offset\n",
    "domain_img.axes_manager[0].scale = 6.92\n",
    "domain_img.axes_manager[1].scale =6.92\n",
    "domain_img.axes_manager[0].units = dp.axes_manager[0].units\n",
    "domain_img.axes_manager[1].units = dp.axes_manager[1].units\n",
    "domain_img.axes_manager[0].name = dp.axes_manager[0].name\n",
    "domain_img.axes_manager[1].name = dp.axes_manager[1].name\n",
    "\n",
    "domain_img.plot(title =\"\", vmin = 0, vmax = 6.232 , axes_off = True, colorbar = False)\n",
    "\n",
    "plt.savefig(\"Combined_dark_field.svg\")"
   ]
  }
 ],
 "metadata": {
  "kernelspec": {
   "display_name": "Python 3.9.13 ('pyxem142')",
   "language": "python",
   "name": "python3"
  },
  "language_info": {
   "codemirror_mode": {
    "name": "ipython",
    "version": 3
   },
   "file_extension": ".py",
   "mimetype": "text/x-python",
   "name": "python",
   "nbconvert_exporter": "python",
   "pygments_lexer": "ipython3",
   "version": "3.9.13 | packaged by conda-forge | (main, May 27 2022, 17:00:52) \n[Clang 13.0.1 ]"
  },
  "orig_nbformat": 4,
  "vscode": {
   "interpreter": {
    "hash": "b3edeedf99e80750ecf8f2feffd51d41d867e7401f9c9cd4d401fc6e7dd97070"
   }
  }
 },
 "nbformat": 4,
 "nbformat_minor": 2
}
