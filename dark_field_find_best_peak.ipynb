{
 "cells": [
  {
   "cell_type": "code",
   "execution_count": null,
   "metadata": {},
   "outputs": [],
   "source": [
    "%matplotlib qt\n",
    "import numpy as np\n",
    "import matplotlib.pyplot as plt\n",
    "import hyperspy.api as hs\n",
    "from tqdm import tqdm"
   ]
  },
  {
   "cell_type": "code",
   "execution_count": null,
   "metadata": {},
   "outputs": [],
   "source": [
    "#load data\n",
    "\n",
    "folder = \"/home/anderscm/Documents/Data/SPED\"\n",
    "\n",
    "file_1deg =\"/Users/anders/Library/CloudStorage/OneDrive-NTNU/Prosjektoppgave/Data/\"\\\n",
    "    \"SPED/SPED_640x383x12_20x20_9p26x9p26nm_ScanRot20deg_CL12cm_spot0p5nm_alpha5_\"\\\n",
    "    \"NBD_10ms_1deg_fixed_scan.zspy\"\n",
    "\n",
    "onedeg = hs.load(file_1deg, lazy=True)\n"
   ]
  },
  {
   "cell_type": "code",
   "execution_count": null,
   "metadata": {},
   "outputs": [],
   "source": [
    "#Crop around grain f and g\n",
    "\n",
    "dp = onedeg.inav[290:600,:240]\n",
    "\n",
    "#set step size calibration\n",
    "\n",
    "dp.axes_manager[0].scale = 6.92\n",
    "dp.axes_manager[1].scale = 6.92"
   ]
  },
  {
   "cell_type": "code",
   "execution_count": null,
   "metadata": {},
   "outputs": [],
   "source": [
    "#Define virtual selected area apertures in both grains\n",
    "\n",
    "ROI_Bright_f = hs.roi.CircleROI(cx=3232.08, cy=463.64, r=79.58, r_inner=0)\n",
    "ROI_Dark_f = hs.roi.CircleROI(cx=3024.48, cy=463.64, r=79.58, r_inner=0)\n",
    "\n",
    "\n",
    "ROI_Bright_g = hs.roi.CircleROI(cx=4346.2, cy=581.28, r=100.34, r_inner=0)\n",
    "ROI_Dark_g = hs.roi.CircleROI(cx=4256.24, cy=802.72, r=100.34, r_inner=0)"
   ]
  },
  {
   "cell_type": "code",
   "execution_count": null,
   "metadata": {},
   "outputs": [],
   "source": [
    "#define function for vsad difference plot\n",
    "\n",
    "def plot_ROI_diff(ROI_bright, ROI_dark):\n",
    "\n",
    "    plot =  ROI_bright(dp).nansum()\n",
    "    bright = ROI_bright(dp).nansum()\n",
    "    dark = ROI_dark(dp).nansum()\n",
    "\n",
    "    b = bright.data\n",
    "    d = dark.data\n",
    "\n",
    "    plot.data = b-d\n",
    "    plot.data /= 1250\n",
    "\n",
    "    plot.plot( axes_off = True, vmin = -1, vmax = 1 , title = \"\", \n",
    "                        cmap = \"gray\", scalebar_color = \"black\")\n"
   ]
  },
  {
   "cell_type": "code",
   "execution_count": null,
   "metadata": {},
   "outputs": [],
   "source": [
    "#VSAD difference for grain g\n",
    "\n",
    "plt.rcParams['svg.fonttype'] = 'none'\n",
    "plt.rcParams[\"axes.unicode_minus\"] = False\n",
    "plot_ROI_diff(ROI_bright=ROI_Bright_g, ROI_dark=ROI_Dark_g)\n",
    "#plt.savefig(\"SPED1_VSAD_g.svg\")"
   ]
  },
  {
   "cell_type": "code",
   "execution_count": null,
   "metadata": {},
   "outputs": [],
   "source": [
    "#VSAD difference for grain f\n",
    "\n",
    "plt.rcParams['svg.fonttype'] = 'none'\n",
    "plt.rcParams[\"axes.unicode_minus\"] = False\n",
    "plot_ROI_diff(ROI_bright=ROI_Bright_f, ROI_dark=ROI_Dark_f)\n",
    "#plt.savefig(\"SPED1_VSAD_f.svg\")"
   ]
  },
  {
   "cell_type": "code",
   "execution_count": null,
   "metadata": {},
   "outputs": [],
   "source": [
    "#manually define virtual objective aperture\n",
    "\n",
    "roi_000 = hs.roi.CircleROI(cx=0.000291292, cy=-0.000194195, r=0.000825327, r_inner=0)\n",
    "roi_100 = hs.roi.CircleROI(cx=0.00223324, cy=0, r=0.000825327, r_inner=0)\n",
    "roi_002 = hs.roi.CircleROI(cx=0.000582584, cy=-0.00213614, r=0.000825327, r_inner=0)\n",
    "\n",
    "\n",
    "#define function for getting objective aperture around peak (h,0,l)\n",
    "\n",
    "def get_circkle(h,k,l):\n",
    "    if k != 0 :\n",
    "        raise ValueError(f\"Parameter k need to be 0\")\n",
    "    origin_x, origin_y = 0.000291292, -0.000194195\n",
    "\n",
    "    one_0_0_vector_x = (0.00990393 - origin_x)/5\n",
    "    one_0_0_vector_y = (0.00116517 - origin_y)/5\n",
    "    zero_0_2_vector_x = (0.00165065 - origin_x)/5\n",
    "    zero_0_2_vector_y = (-0.00922424 - origin_y)/5\n",
    "\n",
    "    cx = origin_x + one_0_0_vector_x * h + zero_0_2_vector_x*l/2\n",
    "    cy = origin_y + one_0_0_vector_y * h + zero_0_2_vector_y *l/2 \n",
    "\n",
    "    return hs.roi.CircleROI(cx = cx, cy = cy,  r=0.000825327, r_inner=0)\n"
   ]
  },
  {
   "cell_type": "code",
   "execution_count": null,
   "metadata": {},
   "outputs": [],
   "source": [
    "#Calculate full contrast matrix for grain g from all reflection\n",
    "\n",
    "def get_score_for_g(h,k,l):\n",
    "    roi_1 = get_circkle(h,0,l)\n",
    "    pos1 = np.nansum(ROI_Bright_g((roi_1(dp.T)).nansum()).data)\n",
    "    neg1 = np.nansum(ROI_Dark_g((roi_1(dp.T)).nansum()).data)\n",
    "    return (pos1-neg1)/neg1\n",
    "\n",
    "scores = np.zeros((11,13))\n",
    "\n",
    "for h in tqdm(range(-5,6)):\n",
    "    for l in range(-6,7):\n",
    "        scores[h+5,l+6] = get_score_for_g(h,0,l*2)\n",
    "\n"
   ]
  },
  {
   "cell_type": "code",
   "execution_count": null,
   "metadata": {},
   "outputs": [],
   "source": [
    "#plot the full result\n",
    "\n",
    "fig,ax = plt.subplots()\n",
    "img = ax.imshow(scores.T,cmap = \"RdBu\",origin = \"lower\", vmin = -1, vmax= 1)\n",
    "ax.set_xticks(range(11))\n",
    "ax.set_xticklabels([-5,-4,-3,-2,-1,0,1,2,3,4,5], fontsize =16)\n",
    "ax.set_yticks(range(13))\n",
    "ax.set_yticklabels([-12,-10,-8,-6,-4,-2,0,2,4,6,8,10,12], fontsize =16)\n",
    "cbar = plt.colorbar(img)\n",
    "\n",
    "cbar.ax.tick_params(labelsize=16)\n",
    "ax.set_xlabel(\"h\", fontsize =16)\n",
    "ax.set_ylabel(\"l\", fontsize =16)\n",
    "plt.tight_layout()\n",
    "plt.savefig(\"Full_matrix_grain_g.pdf\")"
   ]
  },
  {
   "cell_type": "code",
   "execution_count": null,
   "metadata": {},
   "outputs": [],
   "source": [
    "#Calculate full contrast matrix for grain f from all reflections\n",
    "\n",
    "def get_score_for_f(h,k,l):\n",
    "    roi_1 = get_circkle(h,0,l//2)\n",
    "    pos1 = np.nansum(ROI_Bright_f((roi_1(dp.T)).nansum()).data)\n",
    "    neg1 = np.nansum(ROI_Dark_f((roi_1(dp.T)).nansum()).data)\n",
    "    return (pos1-neg1)/neg1\n",
    "\n",
    "scores_f = np.zeros((11,13))\n",
    "\n",
    "\n",
    "for h in tqdm(range(-5,6)):\n",
    "    for l in range(-6,7):\n",
    "        scores_f[h+5,l+6] = get_score_for_f(h,0,l*2)\n"
   ]
  },
  {
   "cell_type": "code",
   "execution_count": null,
   "metadata": {},
   "outputs": [],
   "source": [
    "#plot the full result\n",
    "\n",
    "fig,ax = plt.subplots()\n",
    "img = ax.imshow(scores_f.T,cmap = \"RdBu\",origin = \"lower\", vmin = -1, vmax= 1)\n",
    "ax.set_xticks(range(11))\n",
    "ax.set_xticklabels([-5,-4,-3,-2,-1,0,1,2,3,4,5],fontsize =16)\n",
    "ax.set_yticks(range(13), fontsize =16)\n",
    "ax.set_yticklabels([-12,-10,-8,-6,-4,-2,0,2,4,6,8,10,12], fontsize = 16)\n",
    "cbar = plt.colorbar(img)\n",
    "\n",
    "cbar.ax.tick_params(labelsize=16)\n",
    "ax.set_xlabel(\"h\", fontsize =16)\n",
    "ax.set_ylabel(\"l\", fontsize = 16)\n",
    "plt.tight_layout()\n",
    "plt.savefig(\"Full_matrix_grain_f.pdf\")"
   ]
  },
  {
   "cell_type": "code",
   "execution_count": null,
   "metadata": {},
   "outputs": [],
   "source": [
    "def compress_matrix(matrix, grain_f = False):\n",
    "    new_matrix = np.zeros((matrix.shape[0]//2+1, matrix.shape[1]//2+1))\n",
    "\n",
    "    for i in range(new_matrix.shape[0]):\n",
    "        for j in range(new_matrix.shape[1]):\n",
    "            new_matrix[i,j] += matrix[5-i,j+6]\n",
    "            new_matrix[i,j] -= matrix[5-i,6-j]\n",
    "\n",
    "            if not grain_f:\n",
    "                new_matrix[i,j] += matrix[i+5,j+6]\n",
    "                new_matrix[i,j] -= matrix[i+5,6-j]\n",
    "\n",
    "                new_matrix[i,j] /= 4\n",
    "            else:\n",
    "                new_matrix[i,j] /=2\n",
    "\n",
    "    return new_matrix.T"
   ]
  },
  {
   "cell_type": "code",
   "execution_count": null,
   "metadata": {},
   "outputs": [],
   "source": [
    "#plot compressed matrix for g\n",
    "fig,ax = plt.subplots()\n",
    "\n",
    "img = ax.imshow(compress_matrix(scores), \n",
    "                cmap =\"RdBu\", \n",
    "                origin= \"lower\", \n",
    "                vmin = -1, \n",
    "                vmax = 1)\n",
    "plt.colorbar(img)\n",
    "\n",
    "ax.set_xlabel(\"h\")\n",
    "ax.set_ylabel(\"l\")\n",
    "\n",
    "ax.set_xticklabels([0,0,1,2,3,4,5])\n",
    "ax.set_yticklabels([0,0,2,4,6,8,10,12])\n",
    "\n",
    "plt.tight_layout()\n",
    "#plt.savefig(\"contrast_matrix_grain_g.svg\")\n"
   ]
  },
  {
   "cell_type": "code",
   "execution_count": null,
   "metadata": {},
   "outputs": [],
   "source": [
    "#plot compressed matrix for f\n",
    "fig,ax = plt.subplots()\n",
    "\n",
    "img = ax.imshow(compress_matrix(scores_f, grain_f=True), \n",
    "                cmap =\"RdBu\", \n",
    "                origin= \"lower\", \n",
    "                vmin = -1, \n",
    "                vmax = 1)\n",
    "plt.colorbar(img)\n",
    "\n",
    "ax.set_xlabel(\"h\")\n",
    "ax.set_ylabel(\"l\")\n",
    "\n",
    "ax.set_xticklabels([0,0,1,2,3,4,5])\n",
    "ax.set_yticklabels([0,0,2,4,6,8,10,12])\n",
    "\n",
    "plt.tight_layout()\n",
    "plt.savefig(\"contrast_matrix_grain_f.svg\")\n"
   ]
  }
 ],
 "metadata": {
  "kernelspec": {
   "display_name": "Python 3.9.13 ('pyxem142')",
   "language": "python",
   "name": "python3"
  },
  "language_info": {
   "codemirror_mode": {
    "name": "ipython",
    "version": 3
   },
   "file_extension": ".py",
   "mimetype": "text/x-python",
   "name": "python",
   "nbconvert_exporter": "python",
   "pygments_lexer": "ipython3",
   "version": "3.9.13 | packaged by conda-forge | (main, May 27 2022, 17:00:52) \n[Clang 13.0.1 ]"
  },
  "orig_nbformat": 4,
  "vscode": {
   "interpreter": {
    "hash": "b3edeedf99e80750ecf8f2feffd51d41d867e7401f9c9cd4d401fc6e7dd97070"
   }
  }
 },
 "nbformat": 4,
 "nbformat_minor": 2
}
