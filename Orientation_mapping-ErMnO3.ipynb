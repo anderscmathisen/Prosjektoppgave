{
 "cells": [
  {
   "cell_type": "code",
   "execution_count": null,
   "id": "c9b5751a-35bf-4738-bd11-254650d87f94",
   "metadata": {},
   "outputs": [],
   "source": [
    "%matplotlib qt\n",
    "import numpy as np\n",
    "import matplotlib.pyplot as plt\n",
    "import hyperspy.api as hs\n",
    "from pathlib import Path\n",
    "import os\n",
    "from pyxem.utils.expt_utils import investigate_dog_background_removal_interactive\n",
    "from skimage import filters\n",
    "\n",
    "from pyxem.utils import indexation_utils as iutls\n",
    "from pyxem.utils import plotting_utils as putls\n",
    "\n",
    "from orix.io import load, save"
   ]
  },
  {
   "cell_type": "code",
   "execution_count": null,
   "id": "4c147205-7d97-4bc7-9150-f63153139820",
   "metadata": {},
   "outputs": [],
   "source": [
    "#Load the data\n",
    "\n",
    "folder = \"/Users/anders/Library/CloudStorage/OneDrive-NTNU/Prosjektoppgave/Data/SPED\"\n",
    "\n",
    "file = \"SPED_640x383x12_20x20_9p26x9p26nm_ScanRot20deg_CL12cm_spot0p5nm_alpha5_NBD\" \\\n",
    "                                                        \"_10ms_1deg_fixed_scan.zspy\"\n",
    "filepath = os.path.join(folder, file)\n",
    "org_data = hs.load(filepath, lazy = True)"
   ]
  },
  {
   "cell_type": "code",
   "execution_count": null,
   "id": "00114ae5",
   "metadata": {},
   "outputs": [],
   "source": [
    "#Inspect metadata\n",
    "\n",
    "org_data.metadata"
   ]
  },
  {
   "cell_type": "code",
   "execution_count": null,
   "id": "61d1c555",
   "metadata": {},
   "outputs": [],
   "source": [
    "#Plot the data for initial inspection\n",
    "#Template matching on whole dataset can be slow.\n",
    "#Speed is increased by only using every fourth pixel\n",
    "\n",
    "#work_data = org_data.inav[::4,::4]\n",
    "\n",
    "work_data = org_data\n",
    "work_data.plot()"
   ]
  },
  {
   "cell_type": "code",
   "execution_count": null,
   "id": "b45b378e",
   "metadata": {},
   "outputs": [],
   "source": [
    "#Set parameters for center direct beam\n",
    "\n",
    "center_direct_beam_dict = {\n",
    "    \"method\" : \"blur\",\n",
    "    \"half_square_width\" : 10,\n",
    "    \"sigma\" : 3\n",
    "}\n",
    "work_data.metadata.add_node(\"center_direct_beam_kwargs\")\n",
    "work_data.metadata.center_direct_beam_kwargs =  center_direct_beam_dict\n",
    "\n",
    "#Center the beam\n",
    "work_data.center_direct_beam(**work_data.metadata.center_direct_beam_kwargs)"
   ]
  },
  {
   "cell_type": "code",
   "execution_count": null,
   "id": "387dffad",
   "metadata": {},
   "outputs": [],
   "source": [
    "#investigate parameters for difference of gaussian background subtraction\n",
    "\n",
    "gauss_stddev_maxs = np.arange(2, 12, 0.2) # min, max, step\n",
    "gauss_stddev_mins = np.arange(1, 4, 0.2) # min, max, step\n",
    "\n",
    "\n",
    "dp_test_area = work_data.inav[30,20]\n",
    "investigate_dog_background_removal_interactive(dp_test_area,\n",
    "                                               gauss_stddev_maxs,\n",
    "                                               gauss_stddev_mins)"
   ]
  },
  {
   "cell_type": "code",
   "execution_count": null,
   "id": "d7c634d7",
   "metadata": {},
   "outputs": [],
   "source": [
    "#Set difference of background subtraction parameters\n",
    "\n",
    "diff_background_removal_dict = {\n",
    "    \"method\" : \"difference of gaussians\",\n",
    "    \"min_sigma\":3,\n",
    "    \"max_sigma\":6\n",
    "}\n",
    "work_data.metadata.add_node(\"subract_diff_background_kwargs\")\n",
    "work_data.metadata.subract_diff_background_kwargs = diff_background_removal_dict"
   ]
  },
  {
   "cell_type": "code",
   "execution_count": null,
   "id": "121bd2bf-e496-4ccd-b8f8-2f5c546617e2",
   "metadata": {},
   "outputs": [],
   "source": [
    "#Do preprocessing on data\n",
    "\n",
    "def threshold_minimum(image, minimum=0.1):\n",
    "    image[image <= minimum] = 0.\n",
    "    return image\n",
    "\n",
    "\n",
    "work_data = work_data.subtract_diffraction_background(\n",
    "                    **work_data.metadata.subract_diff_background_kwargs)\n",
    "                                            \n",
    "work_data.map(filters.gaussian, sigma=0.5)\n",
    "work_data.map(threshold_minimum, minimum = 1)\n",
    "work_data.map(filters.gaussian, sigma=0.5)\n",
    "work_data.map(filters.gaussian, sigma = 1.3)\n",
    "work_data.map(threshold_minimum, minimum = 0.3)"
   ]
  },
  {
   "cell_type": "code",
   "execution_count": null,
   "id": "5f53fa73-4188-4bca-97c5-b2006e8fbece",
   "metadata": {},
   "outputs": [],
   "source": [
    "#plot to check preprocessing was succesful\n",
    "work_data.plot(norm = 'symlog', cmap = 'inferno_r')"
   ]
  },
  {
   "cell_type": "code",
   "execution_count": null,
   "id": "3d9b98ea-4878-4856-bf65-760ea81ccefd",
   "metadata": {},
   "outputs": [],
   "source": [
    "#Generate library of simulated diffraction patterns\n",
    "\n",
    "from Utils.GetDiffLibrary import GetDiffLibrary\n",
    "\n",
    "diffraction_calibration = 0.00952354965\n",
    "half_radius = 80\n",
    "diff_lib = GetDiffLibrary(diffraction_calibration, \n",
    "                        12,\n",
    "                        half_radius,\n",
    "                        resolution=0.3,\n",
    "                        make_new=True,\n",
    "                        grid_cub = None, \n",
    "                        minimum_intensity=0.0015, \n",
    "                        max_excitation_error=0.0125,\n",
    "                        precession_angle =0.3 \n",
    "                        )\n",
    "simulations = diff_lib[\"ErMnO3\"][\"simulations\"]\n",
    "orientations = diff_lib[\"ErMnO3\"][\"orientations\"]"
   ]
  },
  {
   "cell_type": "code",
   "execution_count": null,
   "id": "20572887-2076-45d1-86e2-09abbaddf6ab",
   "metadata": {},
   "outputs": [],
   "source": [
    "#Do template matching on the data\n",
    "\n",
    "def log_func(x):\n",
    "    return(np.log10(x + 0.01))\n",
    "\n",
    "    \n",
    "result, phasedict = iutls.index_dataset_with_template_rotation(\n",
    "                                                work_data,\n",
    "                                                diff_lib,\n",
    "                                                n_best = 2,\n",
    "                                                intensity_transform_function=log_func,\n",
    "                                                normalize_images = True,\n",
    "                                                )"
   ]
  },
  {
   "cell_type": "code",
   "execution_count": null,
   "id": "c6b1b3f4-a1d8-4c58-b6d5-fdb0bad67d7a",
   "metadata": {},
   "outputs": [],
   "source": [
    "#convert template matching results to crystal map for saving\n",
    "\n",
    "xmap = iutls.results_dict_to_crystal_map(result,phasedict)\n",
    "\n",
    "#Set space group symmetry for ErMnO3\n",
    "\n",
    "xmap.phases[0].space_group = 185\n"
   ]
  },
  {
   "cell_type": "code",
   "execution_count": null,
   "id": "7c1510d6",
   "metadata": {},
   "outputs": [],
   "source": [
    "#results_dict_to_crystal_map() looses step size information. Needs to be recalibrated\n",
    "\n",
    "def recalibrate_stepsize(xmap, stepsize = 6.92):\n",
    "    y, x = np.indices(xmap.shape, dtype=\"float\")\n",
    "    x *= stepsize\n",
    "    y *= stepsize\n",
    "    xmap._x = x.ravel()\n",
    "    xmap._y = y.ravel()\n",
    "    xmap.scan_unit = \"nm\"\n",
    "\n",
    "    return xmap\n",
    "\n",
    "xmap = recalibrate_stepsize(xmap)"
   ]
  },
  {
   "cell_type": "code",
   "execution_count": null,
   "id": "ad5d6e8e",
   "metadata": {},
   "outputs": [],
   "source": [
    "# convert orientations to X and Y direction of scan\n",
    "# The rotation needs to be calibrated for each dataset\n",
    "\n",
    "from orix.quaternion import Rotation\n",
    "from orix.crystal_map import CrystalMap\n",
    "\n",
    "def apply_inplane_rotation(xmap, rotation = 56.54):\n",
    "    rots_euler = xmap.rotations.to_euler()\n",
    "    rots_euler += np.array([np.deg2rad(rotation),0,0])\n",
    "    rot = Rotation.from_euler(rots_euler)\n",
    "    phaseid = xmap.phase_id\n",
    "    x = xmap.x\n",
    "    y = xmap.y\n",
    "    z = xmap.z\n",
    "    prop = xmap.prop\n",
    "    scan_unit = xmap.scan_unit\n",
    "    is_in_data = xmap.is_in_data\n",
    "    phaselist = xmap.phases\n",
    "\n",
    "    return CrystalMap(rotations = rot,\n",
    "                    phase_id = phaseid,\n",
    "                    x = x,\n",
    "                    y = y,\n",
    "                    z = z,\n",
    "                    prop = prop,\n",
    "                    scan_unit = scan_unit,\n",
    "                    is_in_data = is_in_data,\n",
    "                    phase_list=phaselist)\n",
    "\n",
    "xmap = apply_inplane_rotation(xmap)"
   ]
  },
  {
   "cell_type": "code",
   "execution_count": null,
   "id": "185dd570-ce0e-44cf-9a2a-a33482a31ab4",
   "metadata": {},
   "outputs": [],
   "source": [
    "#save files as .hdf5 and .ang for later analysis\n",
    "\n",
    "save('ErMnO3_1_deg.hdf5',xmap) \n",
    "save('ErMnO3_1_deg.ang',xmap) "
   ]
  }
 ],
 "metadata": {
  "kernelspec": {
   "display_name": "Python 3.9.13 ('pyxem142')",
   "language": "python",
   "name": "python3"
  },
  "language_info": {
   "codemirror_mode": {
    "name": "ipython",
    "version": 3
   },
   "file_extension": ".py",
   "mimetype": "text/x-python",
   "name": "python",
   "nbconvert_exporter": "python",
   "pygments_lexer": "ipython3",
   "version": "3.9.13 | packaged by conda-forge | (main, May 27 2022, 17:00:52) \n[Clang 13.0.1 ]"
  },
  "vscode": {
   "interpreter": {
    "hash": "b3edeedf99e80750ecf8f2feffd51d41d867e7401f9c9cd4d401fc6e7dd97070"
   }
  }
 },
 "nbformat": 4,
 "nbformat_minor": 5
}
